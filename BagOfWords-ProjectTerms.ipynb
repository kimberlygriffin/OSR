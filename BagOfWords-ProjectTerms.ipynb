{
 "cells": [
  {
   "cell_type": "code",
   "execution_count": 1,
   "metadata": {},
   "outputs": [],
   "source": [
    "import pandas as pd\n",
    "import numpy as np\n",
    "from glob import glob\n",
    "import matplotlib as plt\n",
    "from sklearn.feature_extraction.text import TfidfVectorizer\n"
   ]
  },
  {
   "cell_type": "code",
   "execution_count": 5,
   "metadata": {},
   "outputs": [],
   "source": [
    "path='s:\\\\research\\\\ORSP\\\\INFO_CTR\\\\0_Reporting\\\\Predictive_Analytics_Project\\\\Federal_Exporter_Data\\\\'\n",
    "nufile='RePORTER_Projects_Combined_NU.csv'\n",
    "\n",
    "df=pd.read_csv(path+nufile)\n",
    "df.index=df['PROJECT_ID']"
   ]
  },
  {
   "cell_type": "code",
   "execution_count": 6,
   "metadata": {},
   "outputs": [
    {
     "name": "stdout",
     "output_type": "stream",
     "text": [
      "            Unnamed: 0  PROJECT_ID  \\\n",
      "PROJECT_ID                           \n",
      "726286             300      726286   \n",
      "725966             427      725966   \n",
      "726063             530      726063   \n",
      "726467             710      726467   \n",
      "726926             924      726926   \n",
      "\n",
      "                                                PROJECT_TERMS  \\\n",
      "PROJECT_ID                                                      \n",
      "726286       Accounting; Achievement; Activities of Daily ...   \n",
      "725966       Adult; Age; Alternative Splicing; Arrhythmia;...   \n",
      "726063       Action Potentials; adeno-associated viral vec...   \n",
      "726467       Affect; Age; Amyotrophic Lateral Sclerosis; A...   \n",
      "726926       Accounting; Affect; age related; Anatomy; Ant...   \n",
      "\n",
      "                                                PROJECT_TITLE DEPARTMENT  \\\n",
      "PROJECT_ID                                                                 \n",
      "726286      THE EFFECT OF WRIST MOTION ON PATTERN-RECOGNIT...        HHS   \n",
      "725966      NEONATAL LONG QT SYNDROME AND SUDDEN INFANT DEATH        HHS   \n",
      "726063      SLOW OUTWARD CURRENTS AND LEARNING IN AGING HI...        HHS   \n",
      "726467      ASSOCIATION OF ALS TO GENE-ENVIRONMENT MEDIATE...        HHS   \n",
      "726926      ROLE FOR B-CELL MEDIATED OLFACTORY LOSS IN CHR...        HHS   \n",
      "\n",
      "           AGENCY IC_CENTER   PROJECT_NUMBER PROJECT_START_DATE  \\\n",
      "PROJECT_ID                                                        \n",
      "726286        NIH     NICHD  5F31HD078092-02          12/1/2013   \n",
      "725966        NIH     NHLBI  5R01HL083374-08          12/1/2005   \n",
      "726063        NIH       NIA  4R37AG008796-24           3/1/1990   \n",
      "726467        NIH     NIEHS  5R01ES022310-03           2/1/2013   \n",
      "726926        NIH     NIDCD  5K23DC012067-04         12/15/2011   \n",
      "\n",
      "           PROJECT_END_DATE            ...             ORGANIZATION_CITY  \\\n",
      "PROJECT_ID                             ...                                 \n",
      "726286           11/30/2015            ...                      EVANSTON   \n",
      "725966            7/31/2018            ...                       CHICAGO   \n",
      "726063            1/31/2020            ...                       CHICAGO   \n",
      "726467           10/31/2015            ...                       CHICAGO   \n",
      "726926           11/30/2015            ...                       CHICAGO   \n",
      "\n",
      "           ORGANIZATION_STATE  ORGANIZATION_ZIP  ORGANIZATION_COUNTRY  \\\n",
      "PROJECT_ID                                                              \n",
      "726286                     IL         602013149         UNITED STATES   \n",
      "725966                     IL         606113152         UNITED STATES   \n",
      "726063                     IL         606113152         UNITED STATES   \n",
      "726467                     IL         606113152         UNITED STATES   \n",
      "726926                     IL         606113152         UNITED STATES   \n",
      "\n",
      "           BUDGET_START_DATE BUDGET_END_DATE CFDA_CODE    FY FY_TOTAL_COST  \\\n",
      "PROJECT_ID                                                                   \n",
      "726286             12/1/2014      11/30/2015     865.0  2015       47232.0   \n",
      "725966              8/1/2015       7/31/2018     837.0  2015      350551.0   \n",
      "726063              2/1/2015       1/31/2016     866.0  2015      603693.0   \n",
      "726467             11/1/2014      10/31/2015     113.0  2015      621473.0   \n",
      "726926             12/1/2014      11/30/2015     173.0  2015      228819.0   \n",
      "\n",
      "           FY_TOTAL_COST_SUB_PROJECTS  \n",
      "PROJECT_ID                             \n",
      "726286                            NaN  \n",
      "725966                            NaN  \n",
      "726063                            NaN  \n",
      "726467                            NaN  \n",
      "726926                            NaN  \n",
      "\n",
      "[5 rows x 25 columns]\n"
     ]
    }
   ],
   "source": [
    "print (df.head())"
   ]
  },
  {
   "cell_type": "code",
   "execution_count": 22,
   "metadata": {},
   "outputs": [
    {
     "ename": "KeyError",
     "evalue": "'PROJECT_TERMS'",
     "output_type": "error",
     "traceback": [
      "\u001b[1;31m---------------------------------------------------------------------------\u001b[0m",
      "\u001b[1;31mTypeError\u001b[0m                                 Traceback (most recent call last)",
      "\u001b[1;32mpandas\\_libs\\index.pyx\u001b[0m in \u001b[0;36mpandas._libs.index.IndexEngine.get_loc\u001b[1;34m()\u001b[0m\n",
      "\u001b[1;32mpandas\\_libs\\hashtable_class_helper.pxi\u001b[0m in \u001b[0;36mpandas._libs.hashtable.Int64HashTable.get_item\u001b[1;34m()\u001b[0m\n",
      "\u001b[1;31mTypeError\u001b[0m: an integer is required",
      "\nDuring handling of the above exception, another exception occurred:\n",
      "\u001b[1;31mKeyError\u001b[0m                                  Traceback (most recent call last)",
      "\u001b[1;32m~\\AppData\\Local\\Continuum\\anaconda3\\lib\\site-packages\\pandas\\core\\indexes\\base.py\u001b[0m in \u001b[0;36mget_loc\u001b[1;34m(self, key, method, tolerance)\u001b[0m\n\u001b[0;32m   3062\u001b[0m             \u001b[1;32mtry\u001b[0m\u001b[1;33m:\u001b[0m\u001b[1;33m\u001b[0m\u001b[0m\n\u001b[1;32m-> 3063\u001b[1;33m                 \u001b[1;32mreturn\u001b[0m \u001b[0mself\u001b[0m\u001b[1;33m.\u001b[0m\u001b[0m_engine\u001b[0m\u001b[1;33m.\u001b[0m\u001b[0mget_loc\u001b[0m\u001b[1;33m(\u001b[0m\u001b[0mkey\u001b[0m\u001b[1;33m)\u001b[0m\u001b[1;33m\u001b[0m\u001b[0m\n\u001b[0m\u001b[0;32m   3064\u001b[0m             \u001b[1;32mexcept\u001b[0m \u001b[0mKeyError\u001b[0m\u001b[1;33m:\u001b[0m\u001b[1;33m\u001b[0m\u001b[0m\n",
      "\u001b[1;32mpandas\\_libs\\index.pyx\u001b[0m in \u001b[0;36mpandas._libs.index.IndexEngine.get_loc\u001b[1;34m()\u001b[0m\n",
      "\u001b[1;32mpandas\\_libs\\index.pyx\u001b[0m in \u001b[0;36mpandas._libs.index.IndexEngine.get_loc\u001b[1;34m()\u001b[0m\n",
      "\u001b[1;31mKeyError\u001b[0m: 'PROJECT_TERMS'",
      "\nDuring handling of the above exception, another exception occurred:\n",
      "\u001b[1;31mTypeError\u001b[0m                                 Traceback (most recent call last)",
      "\u001b[1;32mpandas\\_libs\\index.pyx\u001b[0m in \u001b[0;36mpandas._libs.index.IndexEngine.get_loc\u001b[1;34m()\u001b[0m\n",
      "\u001b[1;32mpandas\\_libs\\hashtable_class_helper.pxi\u001b[0m in \u001b[0;36mpandas._libs.hashtable.Int64HashTable.get_item\u001b[1;34m()\u001b[0m\n",
      "\u001b[1;31mTypeError\u001b[0m: an integer is required",
      "\nDuring handling of the above exception, another exception occurred:\n",
      "\u001b[1;31mKeyError\u001b[0m                                  Traceback (most recent call last)",
      "\u001b[1;32m<ipython-input-22-e01f2a14ba2b>\u001b[0m in \u001b[0;36m<module>\u001b[1;34m()\u001b[0m\n\u001b[0;32m      1\u001b[0m \u001b[0mtfidf\u001b[0m \u001b[1;33m=\u001b[0m \u001b[0mTfidfVectorizer\u001b[0m\u001b[1;33m(\u001b[0m\u001b[1;33m)\u001b[0m\u001b[1;33m\u001b[0m\u001b[0m\n\u001b[0;32m      2\u001b[0m \u001b[1;31m# Apply fit_transform to document: csr_mat\u001b[0m\u001b[1;33m\u001b[0m\u001b[1;33m\u001b[0m\u001b[0m\n\u001b[1;32m----> 3\u001b[1;33m \u001b[0mcsr_mat\u001b[0m \u001b[1;33m=\u001b[0m \u001b[0mtfidf\u001b[0m\u001b[1;33m.\u001b[0m\u001b[0mfit_transform\u001b[0m\u001b[1;33m(\u001b[0m\u001b[0mdf\u001b[0m\u001b[1;33m[\u001b[0m\u001b[1;34m'PROJECT_TERMS'\u001b[0m\u001b[1;33m]\u001b[0m\u001b[1;33m)\u001b[0m\u001b[1;33m\u001b[0m\u001b[0m\n\u001b[0m\u001b[0;32m      4\u001b[0m \u001b[0mprint\u001b[0m\u001b[1;33m(\u001b[0m\u001b[0mcsr_mat\u001b[0m\u001b[1;33m.\u001b[0m\u001b[0mtoarray\u001b[0m\u001b[1;33m(\u001b[0m\u001b[1;33m)\u001b[0m\u001b[1;33m)\u001b[0m\u001b[1;33m\u001b[0m\u001b[0m\n\u001b[0;32m      5\u001b[0m \u001b[0mwords\u001b[0m \u001b[1;33m=\u001b[0m \u001b[0mtfidf\u001b[0m\u001b[1;33m.\u001b[0m\u001b[0mget_feature_names\u001b[0m\u001b[1;33m(\u001b[0m\u001b[1;33m)\u001b[0m\u001b[1;33m\u001b[0m\u001b[0m\n",
      "\u001b[1;32m~\\AppData\\Local\\Continuum\\anaconda3\\lib\\site-packages\\pandas\\core\\frame.py\u001b[0m in \u001b[0;36m__getitem__\u001b[1;34m(self, key)\u001b[0m\n\u001b[0;32m   2683\u001b[0m             \u001b[1;32mreturn\u001b[0m \u001b[0mself\u001b[0m\u001b[1;33m.\u001b[0m\u001b[0m_getitem_multilevel\u001b[0m\u001b[1;33m(\u001b[0m\u001b[0mkey\u001b[0m\u001b[1;33m)\u001b[0m\u001b[1;33m\u001b[0m\u001b[0m\n\u001b[0;32m   2684\u001b[0m         \u001b[1;32melse\u001b[0m\u001b[1;33m:\u001b[0m\u001b[1;33m\u001b[0m\u001b[0m\n\u001b[1;32m-> 2685\u001b[1;33m             \u001b[1;32mreturn\u001b[0m \u001b[0mself\u001b[0m\u001b[1;33m.\u001b[0m\u001b[0m_getitem_column\u001b[0m\u001b[1;33m(\u001b[0m\u001b[0mkey\u001b[0m\u001b[1;33m)\u001b[0m\u001b[1;33m\u001b[0m\u001b[0m\n\u001b[0m\u001b[0;32m   2686\u001b[0m \u001b[1;33m\u001b[0m\u001b[0m\n\u001b[0;32m   2687\u001b[0m     \u001b[1;32mdef\u001b[0m \u001b[0m_getitem_column\u001b[0m\u001b[1;33m(\u001b[0m\u001b[0mself\u001b[0m\u001b[1;33m,\u001b[0m \u001b[0mkey\u001b[0m\u001b[1;33m)\u001b[0m\u001b[1;33m:\u001b[0m\u001b[1;33m\u001b[0m\u001b[0m\n",
      "\u001b[1;32m~\\AppData\\Local\\Continuum\\anaconda3\\lib\\site-packages\\pandas\\core\\frame.py\u001b[0m in \u001b[0;36m_getitem_column\u001b[1;34m(self, key)\u001b[0m\n\u001b[0;32m   2690\u001b[0m         \u001b[1;31m# get column\u001b[0m\u001b[1;33m\u001b[0m\u001b[1;33m\u001b[0m\u001b[0m\n\u001b[0;32m   2691\u001b[0m         \u001b[1;32mif\u001b[0m \u001b[0mself\u001b[0m\u001b[1;33m.\u001b[0m\u001b[0mcolumns\u001b[0m\u001b[1;33m.\u001b[0m\u001b[0mis_unique\u001b[0m\u001b[1;33m:\u001b[0m\u001b[1;33m\u001b[0m\u001b[0m\n\u001b[1;32m-> 2692\u001b[1;33m             \u001b[1;32mreturn\u001b[0m \u001b[0mself\u001b[0m\u001b[1;33m.\u001b[0m\u001b[0m_get_item_cache\u001b[0m\u001b[1;33m(\u001b[0m\u001b[0mkey\u001b[0m\u001b[1;33m)\u001b[0m\u001b[1;33m\u001b[0m\u001b[0m\n\u001b[0m\u001b[0;32m   2693\u001b[0m \u001b[1;33m\u001b[0m\u001b[0m\n\u001b[0;32m   2694\u001b[0m         \u001b[1;31m# duplicate columns & possible reduce dimensionality\u001b[0m\u001b[1;33m\u001b[0m\u001b[1;33m\u001b[0m\u001b[0m\n",
      "\u001b[1;32m~\\AppData\\Local\\Continuum\\anaconda3\\lib\\site-packages\\pandas\\core\\generic.py\u001b[0m in \u001b[0;36m_get_item_cache\u001b[1;34m(self, item)\u001b[0m\n\u001b[0;32m   2484\u001b[0m         \u001b[0mres\u001b[0m \u001b[1;33m=\u001b[0m \u001b[0mcache\u001b[0m\u001b[1;33m.\u001b[0m\u001b[0mget\u001b[0m\u001b[1;33m(\u001b[0m\u001b[0mitem\u001b[0m\u001b[1;33m)\u001b[0m\u001b[1;33m\u001b[0m\u001b[0m\n\u001b[0;32m   2485\u001b[0m         \u001b[1;32mif\u001b[0m \u001b[0mres\u001b[0m \u001b[1;32mis\u001b[0m \u001b[1;32mNone\u001b[0m\u001b[1;33m:\u001b[0m\u001b[1;33m\u001b[0m\u001b[0m\n\u001b[1;32m-> 2486\u001b[1;33m             \u001b[0mvalues\u001b[0m \u001b[1;33m=\u001b[0m \u001b[0mself\u001b[0m\u001b[1;33m.\u001b[0m\u001b[0m_data\u001b[0m\u001b[1;33m.\u001b[0m\u001b[0mget\u001b[0m\u001b[1;33m(\u001b[0m\u001b[0mitem\u001b[0m\u001b[1;33m)\u001b[0m\u001b[1;33m\u001b[0m\u001b[0m\n\u001b[0m\u001b[0;32m   2487\u001b[0m             \u001b[0mres\u001b[0m \u001b[1;33m=\u001b[0m \u001b[0mself\u001b[0m\u001b[1;33m.\u001b[0m\u001b[0m_box_item_values\u001b[0m\u001b[1;33m(\u001b[0m\u001b[0mitem\u001b[0m\u001b[1;33m,\u001b[0m \u001b[0mvalues\u001b[0m\u001b[1;33m)\u001b[0m\u001b[1;33m\u001b[0m\u001b[0m\n\u001b[0;32m   2488\u001b[0m             \u001b[0mcache\u001b[0m\u001b[1;33m[\u001b[0m\u001b[0mitem\u001b[0m\u001b[1;33m]\u001b[0m \u001b[1;33m=\u001b[0m \u001b[0mres\u001b[0m\u001b[1;33m\u001b[0m\u001b[0m\n",
      "\u001b[1;32m~\\AppData\\Local\\Continuum\\anaconda3\\lib\\site-packages\\pandas\\core\\internals.py\u001b[0m in \u001b[0;36mget\u001b[1;34m(self, item, fastpath)\u001b[0m\n\u001b[0;32m   4113\u001b[0m \u001b[1;33m\u001b[0m\u001b[0m\n\u001b[0;32m   4114\u001b[0m             \u001b[1;32mif\u001b[0m \u001b[1;32mnot\u001b[0m \u001b[0misna\u001b[0m\u001b[1;33m(\u001b[0m\u001b[0mitem\u001b[0m\u001b[1;33m)\u001b[0m\u001b[1;33m:\u001b[0m\u001b[1;33m\u001b[0m\u001b[0m\n\u001b[1;32m-> 4115\u001b[1;33m                 \u001b[0mloc\u001b[0m \u001b[1;33m=\u001b[0m \u001b[0mself\u001b[0m\u001b[1;33m.\u001b[0m\u001b[0mitems\u001b[0m\u001b[1;33m.\u001b[0m\u001b[0mget_loc\u001b[0m\u001b[1;33m(\u001b[0m\u001b[0mitem\u001b[0m\u001b[1;33m)\u001b[0m\u001b[1;33m\u001b[0m\u001b[0m\n\u001b[0m\u001b[0;32m   4116\u001b[0m             \u001b[1;32melse\u001b[0m\u001b[1;33m:\u001b[0m\u001b[1;33m\u001b[0m\u001b[0m\n\u001b[0;32m   4117\u001b[0m                 \u001b[0mindexer\u001b[0m \u001b[1;33m=\u001b[0m \u001b[0mnp\u001b[0m\u001b[1;33m.\u001b[0m\u001b[0marange\u001b[0m\u001b[1;33m(\u001b[0m\u001b[0mlen\u001b[0m\u001b[1;33m(\u001b[0m\u001b[0mself\u001b[0m\u001b[1;33m.\u001b[0m\u001b[0mitems\u001b[0m\u001b[1;33m)\u001b[0m\u001b[1;33m)\u001b[0m\u001b[1;33m[\u001b[0m\u001b[0misna\u001b[0m\u001b[1;33m(\u001b[0m\u001b[0mself\u001b[0m\u001b[1;33m.\u001b[0m\u001b[0mitems\u001b[0m\u001b[1;33m)\u001b[0m\u001b[1;33m]\u001b[0m\u001b[1;33m\u001b[0m\u001b[0m\n",
      "\u001b[1;32m~\\AppData\\Local\\Continuum\\anaconda3\\lib\\site-packages\\pandas\\core\\indexes\\base.py\u001b[0m in \u001b[0;36mget_loc\u001b[1;34m(self, key, method, tolerance)\u001b[0m\n\u001b[0;32m   3063\u001b[0m                 \u001b[1;32mreturn\u001b[0m \u001b[0mself\u001b[0m\u001b[1;33m.\u001b[0m\u001b[0m_engine\u001b[0m\u001b[1;33m.\u001b[0m\u001b[0mget_loc\u001b[0m\u001b[1;33m(\u001b[0m\u001b[0mkey\u001b[0m\u001b[1;33m)\u001b[0m\u001b[1;33m\u001b[0m\u001b[0m\n\u001b[0;32m   3064\u001b[0m             \u001b[1;32mexcept\u001b[0m \u001b[0mKeyError\u001b[0m\u001b[1;33m:\u001b[0m\u001b[1;33m\u001b[0m\u001b[0m\n\u001b[1;32m-> 3065\u001b[1;33m                 \u001b[1;32mreturn\u001b[0m \u001b[0mself\u001b[0m\u001b[1;33m.\u001b[0m\u001b[0m_engine\u001b[0m\u001b[1;33m.\u001b[0m\u001b[0mget_loc\u001b[0m\u001b[1;33m(\u001b[0m\u001b[0mself\u001b[0m\u001b[1;33m.\u001b[0m\u001b[0m_maybe_cast_indexer\u001b[0m\u001b[1;33m(\u001b[0m\u001b[0mkey\u001b[0m\u001b[1;33m)\u001b[0m\u001b[1;33m)\u001b[0m\u001b[1;33m\u001b[0m\u001b[0m\n\u001b[0m\u001b[0;32m   3066\u001b[0m \u001b[1;33m\u001b[0m\u001b[0m\n\u001b[0;32m   3067\u001b[0m         \u001b[0mindexer\u001b[0m \u001b[1;33m=\u001b[0m \u001b[0mself\u001b[0m\u001b[1;33m.\u001b[0m\u001b[0mget_indexer\u001b[0m\u001b[1;33m(\u001b[0m\u001b[1;33m[\u001b[0m\u001b[0mkey\u001b[0m\u001b[1;33m]\u001b[0m\u001b[1;33m,\u001b[0m \u001b[0mmethod\u001b[0m\u001b[1;33m=\u001b[0m\u001b[0mmethod\u001b[0m\u001b[1;33m,\u001b[0m \u001b[0mtolerance\u001b[0m\u001b[1;33m=\u001b[0m\u001b[0mtolerance\u001b[0m\u001b[1;33m)\u001b[0m\u001b[1;33m\u001b[0m\u001b[0m\n",
      "\u001b[1;32mpandas\\_libs\\index.pyx\u001b[0m in \u001b[0;36mpandas._libs.index.IndexEngine.get_loc\u001b[1;34m()\u001b[0m\n",
      "\u001b[1;32mpandas\\_libs\\index.pyx\u001b[0m in \u001b[0;36mpandas._libs.index.IndexEngine.get_loc\u001b[1;34m()\u001b[0m\n",
      "\u001b[1;31mKeyError\u001b[0m: 'PROJECT_TERMS'"
     ]
    }
   ],
   "source": [
    "tfidf = TfidfVectorizer()\n",
    "# Apply fit_transform to document: csr_mat\n",
    "csr_mat = tfidf.fit_transform(df['PROJECT_TERMS'])\n",
    "print(csr_mat.toarray())\n",
    "words = tfidf.get_feature_names()\n",
    "print(words)\n",
    "print(csr_mat.index)\n"
   ]
  },
  {
   "cell_type": "code",
   "execution_count": 11,
   "metadata": {},
   "outputs": [
    {
     "name": "stdout",
     "output_type": "stream",
     "text": [
      "[[0.00460076 0.00126589 0.01414226 ... 0.         0.         0.        ]\n",
      " [0.05084376 0.00594141 0.         ... 0.05717045 0.00613768 0.        ]\n",
      " [0.00596237 0.         0.         ... 0.         0.02600341 0.        ]\n",
      " ...\n",
      " [0.         0.05567155 0.02990938 ... 0.         0.         0.        ]\n",
      " [0.00011929 0.         0.02136539 ... 0.         0.         0.        ]\n",
      " [0.         0.         0.0228508  ... 0.00808656 0.         0.        ]]\n"
     ]
    }
   ],
   "source": [
    "# Import NMF\n",
    "from sklearn.decomposition import NMF\n",
    "\n",
    "# Create an NMF instance: model\n",
    "model = NMF(n_components=20)\n",
    "\n",
    "# Fit the model to articles\n",
    "model.fit(csr_mat)\n",
    "\n",
    "# Transform the articles: nmf_features\n",
    "nmf_features = model.transform(csr_mat)\n",
    "\n",
    "# Print the NMF features\n",
    "print(nmf_features)\n"
   ]
  },
  {
   "cell_type": "code",
   "execution_count": 12,
   "metadata": {},
   "outputs": [
    {
     "name": "stdout",
     "output_type": "stream",
     "text": [
      "(20, 7974)\n",
      "communicable    1.247231\n",
      "structural      1.171271\n",
      "diseases        0.715811\n",
      "allergy         0.634341\n",
      "infectious      0.606147\n",
      "Name: 3, dtype: float64\n"
     ]
    }
   ],
   "source": [
    "components_df = pd.DataFrame(model.components_,columns=words)\n",
    "print(components_df.shape)\n",
    "component = components_df.iloc[3]\n",
    "print(component.nlargest())\n"
   ]
  },
  {
   "cell_type": "code",
   "execution_count": 13,
   "metadata": {},
   "outputs": [],
   "source": [
    "from sklearn.preprocessing import normalize\n"
   ]
  },
  {
   "cell_type": "code",
   "execution_count": 14,
   "metadata": {},
   "outputs": [
    {
     "name": "stdout",
     "output_type": "stream",
     "text": [
      "100     1.000000\n",
      "339     0.979850\n",
      "1448    0.979850\n",
      "1505    0.978436\n",
      "2856    0.977663\n",
      "dtype: float64\n"
     ]
    }
   ],
   "source": [
    "# Normalize the NMF features: norm_features\n",
    "norm_features = normalize(nmf_features)\n",
    "\n",
    "# Create a DataFrame: df\n",
    "df = pd.DataFrame(norm_features)\n",
    "\n",
    "# Select the row corresponding to 'Cristiano Ronaldo': article\n",
    "project = df.iloc[100]\n",
    "\n",
    "# Compute the dot products: similarities\n",
    "similarities = df.dot(project)\n",
    "\n",
    "# Display those with the largest cosine similarity\n",
    "print(similarities.nlargest())\n"
   ]
  },
  {
   "cell_type": "code",
   "execution_count": 20,
   "metadata": {},
   "outputs": [
    {
     "name": "stdout",
     "output_type": "stream",
     "text": [
      "  (0, 108)\t0.07496142370771919\n",
      "  (0, 125)\t0.09141635421073672\n",
      "  (0, 160)\t0.09233262841825635\n",
      "  (0, 5251)\t0.03144509667620492\n",
      "  (0, 1866)\t0.10817132345484844\n",
      "  (0, 4247)\t0.10168006803451829\n",
      "  (0, 178)\t0.04213519995961262\n",
      "  (0, 242)\t0.04491132094412564\n",
      "  (0, 401)\t0.25122587629059273\n",
      "  (0, 402)\t0.15055797137157395\n",
      "  (0, 788)\t0.031730686901907126\n",
      "  (0, 1444)\t0.03688423463096666\n",
      "  (0, 553)\t0.08462191518048093\n",
      "  (0, 1875)\t0.03186293175272313\n",
      "  (0, 2023)\t0.0868231198255184\n",
      "  (0, 2066)\t0.16097047176046175\n",
      "  (0, 7069)\t0.04100895848633604\n",
      "  (0, 2806)\t0.12684869036458787\n",
      "  (0, 4793)\t0.14932769322748135\n",
      "  (0, 2964)\t0.05600618359042335\n",
      "  (0, 4279)\t0.079410232137307\n",
      "  (0, 3180)\t0.03176666867456282\n",
      "  (0, 3290)\t0.2821273224478198\n",
      "  (0, 3221)\t0.11945134493326098\n",
      "  (0, 3498)\t0.036837995664636344\n",
      "  :\t:\n",
      "  (2964, 6333)\t0.16258811035684045\n",
      "  (2964, 1563)\t0.19014577407839\n",
      "  (2964, 2106)\t0.18727144000499485\n",
      "  (2964, 2105)\t0.14244998801654513\n",
      "  (2964, 7261)\t0.18636356120863987\n",
      "  (2964, 2739)\t0.3426142175591661\n",
      "  (2964, 3723)\t0.2339315541903997\n",
      "  (2964, 3631)\t0.23060033297753088\n",
      "  (2964, 3936)\t0.23060033297753088\n",
      "  (2964, 6293)\t0.290183611690479\n",
      "  (2965, 4714)\t0.16287260277650764\n",
      "  (2965, 4913)\t0.3179012962132104\n",
      "  (2965, 2637)\t0.3946036823036497\n",
      "  (2965, 2650)\t0.5558974606747508\n",
      "  (2965, 7140)\t0.6384960675356824\n",
      "  (2966, 3180)\t0.09985569500541623\n",
      "  (2966, 1969)\t0.30236493661303043\n",
      "  (2966, 4913)\t0.23563456211332806\n",
      "  (2966, 5317)\t0.297236260261515\n",
      "  (2966, 4353)\t0.3543246808985552\n",
      "  (2966, 7344)\t0.3151239568489816\n",
      "  (2966, 6513)\t0.3244603316651669\n",
      "  (2966, 6250)\t0.3162192698220257\n",
      "  (2966, 2799)\t0.402872822923268\n",
      "  (2966, 7348)\t0.402872822923268\n"
     ]
    }
   ],
   "source": [
    "print(csr_mat)"
   ]
  }
 ],
 "metadata": {
  "kernelspec": {
   "display_name": "Python 3",
   "language": "python",
   "name": "python3"
  },
  "language_info": {
   "codemirror_mode": {
    "name": "ipython",
    "version": 3
   },
   "file_extension": ".py",
   "mimetype": "text/x-python",
   "name": "python",
   "nbconvert_exporter": "python",
   "pygments_lexer": "ipython3",
   "version": "3.6.5"
  }
 },
 "nbformat": 4,
 "nbformat_minor": 2
}
